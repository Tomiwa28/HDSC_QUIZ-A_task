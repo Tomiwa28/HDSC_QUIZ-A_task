{
 "cells": [
  {
   "cell_type": "code",
   "execution_count": 1,
   "id": "1682d39b",
   "metadata": {},
   "outputs": [],
   "source": [
    "import pandas as pd\n",
    "import numpy as np\n",
    "import matplotlib.pyplot as plt"
   ]
  },
  {
   "cell_type": "code",
   "execution_count": 3,
   "id": "d271ac5f",
   "metadata": {
    "scrolled": true
   },
   "outputs": [
    {
     "data": {
      "text/html": [
       "<div>\n",
       "<style scoped>\n",
       "    .dataframe tbody tr th:only-of-type {\n",
       "        vertical-align: middle;\n",
       "    }\n",
       "\n",
       "    .dataframe tbody tr th {\n",
       "        vertical-align: top;\n",
       "    }\n",
       "\n",
       "    .dataframe thead th {\n",
       "        text-align: right;\n",
       "    }\n",
       "</style>\n",
       "<table border=\"1\" class=\"dataframe\">\n",
       "  <thead>\n",
       "    <tr style=\"text-align: right;\">\n",
       "      <th></th>\n",
       "      <th>Area Code</th>\n",
       "      <th>Item Code</th>\n",
       "      <th>Element Code</th>\n",
       "      <th>Y2014</th>\n",
       "      <th>Y2015</th>\n",
       "      <th>Y2016</th>\n",
       "      <th>Y2017</th>\n",
       "      <th>Y2018</th>\n",
       "    </tr>\n",
       "  </thead>\n",
       "  <tbody>\n",
       "    <tr>\n",
       "      <th>count</th>\n",
       "      <td>60943.000000</td>\n",
       "      <td>60943.000000</td>\n",
       "      <td>60943.000000</td>\n",
       "      <td>59354.000000</td>\n",
       "      <td>59395.000000</td>\n",
       "      <td>59408.000000</td>\n",
       "      <td>59437.000000</td>\n",
       "      <td>59507.000000</td>\n",
       "    </tr>\n",
       "    <tr>\n",
       "      <th>mean</th>\n",
       "      <td>134.265576</td>\n",
       "      <td>2687.176706</td>\n",
       "      <td>3814.856456</td>\n",
       "      <td>134.196282</td>\n",
       "      <td>135.235966</td>\n",
       "      <td>136.555222</td>\n",
       "      <td>140.917765</td>\n",
       "      <td>143.758381</td>\n",
       "    </tr>\n",
       "    <tr>\n",
       "      <th>std</th>\n",
       "      <td>72.605709</td>\n",
       "      <td>146.055739</td>\n",
       "      <td>2212.007033</td>\n",
       "      <td>1567.663696</td>\n",
       "      <td>1603.403984</td>\n",
       "      <td>1640.007194</td>\n",
       "      <td>1671.862359</td>\n",
       "      <td>1710.782658</td>\n",
       "    </tr>\n",
       "    <tr>\n",
       "      <th>min</th>\n",
       "      <td>4.000000</td>\n",
       "      <td>2501.000000</td>\n",
       "      <td>511.000000</td>\n",
       "      <td>-1796.000000</td>\n",
       "      <td>-3161.000000</td>\n",
       "      <td>-3225.000000</td>\n",
       "      <td>-1582.000000</td>\n",
       "      <td>-3396.000000</td>\n",
       "    </tr>\n",
       "    <tr>\n",
       "      <th>25%</th>\n",
       "      <td>74.000000</td>\n",
       "      <td>2562.000000</td>\n",
       "      <td>684.000000</td>\n",
       "      <td>0.000000</td>\n",
       "      <td>0.000000</td>\n",
       "      <td>0.000000</td>\n",
       "      <td>0.000000</td>\n",
       "      <td>0.000000</td>\n",
       "    </tr>\n",
       "    <tr>\n",
       "      <th>50%</th>\n",
       "      <td>136.000000</td>\n",
       "      <td>2630.000000</td>\n",
       "      <td>5142.000000</td>\n",
       "      <td>0.090000</td>\n",
       "      <td>0.080000</td>\n",
       "      <td>0.080000</td>\n",
       "      <td>0.100000</td>\n",
       "      <td>0.070000</td>\n",
       "    </tr>\n",
       "    <tr>\n",
       "      <th>75%</th>\n",
       "      <td>195.000000</td>\n",
       "      <td>2775.000000</td>\n",
       "      <td>5511.000000</td>\n",
       "      <td>8.340000</td>\n",
       "      <td>8.460000</td>\n",
       "      <td>8.430000</td>\n",
       "      <td>9.000000</td>\n",
       "      <td>9.000000</td>\n",
       "    </tr>\n",
       "    <tr>\n",
       "      <th>max</th>\n",
       "      <td>276.000000</td>\n",
       "      <td>2961.000000</td>\n",
       "      <td>5911.000000</td>\n",
       "      <td>176405.000000</td>\n",
       "      <td>181137.000000</td>\n",
       "      <td>185960.000000</td>\n",
       "      <td>190873.000000</td>\n",
       "      <td>195875.000000</td>\n",
       "    </tr>\n",
       "  </tbody>\n",
       "</table>\n",
       "</div>"
      ],
      "text/plain": [
       "          Area Code     Item Code  Element Code          Y2014          Y2015  \\\n",
       "count  60943.000000  60943.000000  60943.000000   59354.000000   59395.000000   \n",
       "mean     134.265576   2687.176706   3814.856456     134.196282     135.235966   \n",
       "std       72.605709    146.055739   2212.007033    1567.663696    1603.403984   \n",
       "min        4.000000   2501.000000    511.000000   -1796.000000   -3161.000000   \n",
       "25%       74.000000   2562.000000    684.000000       0.000000       0.000000   \n",
       "50%      136.000000   2630.000000   5142.000000       0.090000       0.080000   \n",
       "75%      195.000000   2775.000000   5511.000000       8.340000       8.460000   \n",
       "max      276.000000   2961.000000   5911.000000  176405.000000  181137.000000   \n",
       "\n",
       "               Y2016          Y2017          Y2018  \n",
       "count   59408.000000   59437.000000   59507.000000  \n",
       "mean      136.555222     140.917765     143.758381  \n",
       "std      1640.007194    1671.862359    1710.782658  \n",
       "min     -3225.000000   -1582.000000   -3396.000000  \n",
       "25%         0.000000       0.000000       0.000000  \n",
       "50%         0.080000       0.100000       0.070000  \n",
       "75%         8.430000       9.000000       9.000000  \n",
       "max    185960.000000  190873.000000  195875.000000  "
      ]
     },
     "execution_count": 3,
     "metadata": {},
     "output_type": "execute_result"
    }
   ],
   "source": [
    "fbs_analysis = pd.read_csv(\"FoodBalanceSheets_E_Africa_NOFLAG.csv\", encoding=\"unicode_escape\")\n",
    "fbs_analysis.describe()"
   ]
  },
  {
   "cell_type": "code",
   "execution_count": 25,
   "id": "77e92987",
   "metadata": {},
   "outputs": [
    {
     "name": "stdout",
     "output_type": "stream",
     "text": [
      "49\n"
     ]
    }
   ],
   "source": [
    "question_20= list(fbs_analysis[\"Area\"])\n",
    "\n",
    "fbs_1 = list(set(question_20))\n",
    "\n",
    "print(len(fbs_1))\n"
   ]
  },
  {
   "cell_type": "code",
   "execution_count": 6,
   "id": "b95b6ecc",
   "metadata": {},
   "outputs": [
    {
     "name": "stdout",
     "output_type": "stream",
     "text": [
      "Item\n",
      "Alcohol, Non-Food        2403.00\n",
      "Alcoholic Beverages    102410.11\n",
      "Animal Products         11935.65\n",
      "Animal fats            209460.54\n",
      "Apples and products      9499.23\n",
      "                         ...    \n",
      "Vegetables, Other      155038.96\n",
      "Vegetal Products       107145.19\n",
      "Wheat and products     232670.13\n",
      "Wine                     4497.36\n",
      "Yams                   200396.96\n",
      "Name: Y2014, Length: 119, dtype: float64 Item\n",
      "Alcohol, Non-Food        2348.00\n",
      "Alcoholic Beverages     95581.06\n",
      "Animal Products         11547.65\n",
      "Animal fats            269617.53\n",
      "Apples and products     10198.90\n",
      "                         ...    \n",
      "Vegetables, Other      157752.59\n",
      "Vegetal Products       107655.20\n",
      "Wheat and products     240047.62\n",
      "Wine                     4178.02\n",
      "Yams                   229174.59\n",
      "Name: Y2017, Length: 119, dtype: float64\n"
     ]
    }
   ],
   "source": [
    "question_11_2014 = fbs_analysis.groupby('Item')['Y2014'].sum()\n",
    "question_11_2017 = fbs_analysis.groupby('Item')['Y2017'].sum()\n",
    "\n",
    "print(question_11_2014, question_11_2017)"
   ]
  },
  {
   "cell_type": "code",
   "execution_count": 12,
   "id": "80592041",
   "metadata": {},
   "outputs": [
    {
     "name": "stdout",
     "output_type": "stream",
     "text": [
      "Area Code          0\n",
      "Area               0\n",
      "Item Code          0\n",
      "Item               0\n",
      "Element Code       0\n",
      "Element            0\n",
      "Unit               0\n",
      "Y2014           1589\n",
      "Y2015           1548\n",
      "Y2016           1535\n",
      "Y2017           1506\n",
      "Y2018           1436\n",
      "dtype: int64 Area Code       0.000000\n",
      "Area            0.000000\n",
      "Item Code       0.000000\n",
      "Item            0.000000\n",
      "Element Code    0.000000\n",
      "Element         0.000000\n",
      "Unit            0.000000\n",
      "Y2014           2.607354\n",
      "Y2015           2.540078\n",
      "Y2016           2.518747\n",
      "Y2017           2.471162\n",
      "Y2018           2.356300\n",
      "dtype: float64\n"
     ]
    }
   ],
   "source": [
    "question_13_missing = fbs_analysis.isnull().sum()\n",
    "question_13_percent = fbs_analysis.isnull().sum()*100/ len(fbs_analysis)\n",
    "print(question_13_missing,question_13_percent)"
   ]
  },
  {
   "cell_type": "code",
   "execution_count": 16,
   "id": "54e4fe04",
   "metadata": {},
   "outputs": [
    {
     "name": "stdout",
     "output_type": "stream",
     "text": [
      "Element Code\n",
      "511     1085107.00\n",
      "645       48985.28\n",
      "664      451810.00\n",
      "674       11779.69\n",
      "684       10102.77\n",
      "5072      33140.12\n",
      "5123     157787.00\n",
      "5131     280631.00\n",
      "5142    1247022.17\n",
      "5154      69563.68\n",
      "5170      37224.00\n",
      "5171         89.00\n",
      "5301    2044842.70\n",
      "5511    1943537.15\n",
      "5521     228958.65\n",
      "5527      23389.20\n",
      "5611     286582.78\n",
      "5911     151920.46\n",
      "Name: Y2016, dtype: float64\n"
     ]
    }
   ],
   "source": [
    "question_14 = fbs_analysis.groupby('Element Code')['Y2016'].sum()\n",
    "\n",
    "print(question_14)"
   ]
  },
  {
   "cell_type": "code",
   "execution_count": 20,
   "id": "a7d2fe08",
   "metadata": {},
   "outputs": [
    {
     "name": "stdout",
     "output_type": "stream",
     "text": [
      "(Element\n",
      "Domestic supply quantity                  2088198.10\n",
      "Export Quantity                            182338.80\n",
      "Fat supply quantity (g/capita/day)          10253.84\n",
      "Feed                                       223705.68\n",
      "Food                                      1258888.28\n",
      "Food supply (kcal/capita/day)              454681.00\n",
      "Food supply quantity (kg/capita/yr)         48690.04\n",
      "Import Quantity                            294559.09\n",
      "Losses                                     160614.00\n",
      "Other uses (non-food)                       91645.97\n",
      "Processing                                 292836.00\n",
      "Production                                2030056.89\n",
      "Protein supply quantity (g/capita/day)      11842.45\n",
      "Residuals                                   35500.00\n",
      "Seed                                        24870.14\n",
      "Stock Variation                             54316.91\n",
      "Total Population - Both sexes             1112641.00\n",
      "Tourist consumption                            91.00\n",
      "Name: Y2017, dtype: float64, Element\n",
      "Domestic supply quantity                  1996716.35\n",
      "Export Quantity                            150020.64\n",
      "Fat supply quantity (g/capita/day)          10225.56\n",
      "Feed                                       216927.89\n",
      "Food                                      1212332.49\n",
      "Food supply (kcal/capita/day)              454257.00\n",
      "Food supply quantity (kg/capita/yr)         49650.63\n",
      "Import Quantity                            274144.48\n",
      "Losses                                     153223.00\n",
      "Other uses (non-food)                       78718.13\n",
      "Processing                                 282923.00\n",
      "Production                                1931287.75\n",
      "Protein supply quantity (g/capita/day)      11836.46\n",
      "Residuals                                   30149.00\n",
      "Seed                                        21922.92\n",
      "Stock Variation                             58749.83\n",
      "Total Population - Both sexes             1031585.00\n",
      "Tourist consumption                           416.00\n",
      "Name: Y2014, dtype: float64, Element\n",
      "Domestic supply quantity                  2021493.55\n",
      "Export Quantity                            157614.47\n",
      "Fat supply quantity (g/capita/day)          10235.74\n",
      "Feed                                       225050.22\n",
      "Food                                      1232361.10\n",
      "Food supply (kcal/capita/day)              453383.00\n",
      "Food supply quantity (kg/capita/yr)         49345.13\n",
      "Import Quantity                            267018.46\n",
      "Losses                                     155439.00\n",
      "Other uses (non-food)                       66254.41\n",
      "Processing                                 287929.00\n",
      "Production                                1947019.39\n",
      "Protein supply quantity (g/capita/day)      11833.95\n",
      "Residuals                                   30045.00\n",
      "Seed                                        23976.82\n",
      "Stock Variation                             34910.99\n",
      "Total Population - Both sexes             1058081.00\n",
      "Tourist consumption                           349.00\n",
      "Name: Y2015, dtype: float64, Element\n",
      "Domestic supply quantity                  2044842.70\n",
      "Export Quantity                            151920.46\n",
      "Fat supply quantity (g/capita/day)          10102.77\n",
      "Feed                                       228958.65\n",
      "Food                                      1247022.17\n",
      "Food supply (kcal/capita/day)              451810.00\n",
      "Food supply quantity (kg/capita/yr)         48985.28\n",
      "Import Quantity                            286582.78\n",
      "Losses                                     157787.00\n",
      "Other uses (non-food)                       69563.68\n",
      "Processing                                 280631.00\n",
      "Production                                1943537.15\n",
      "Protein supply quantity (g/capita/day)      11779.69\n",
      "Residuals                                   37224.00\n",
      "Seed                                        23389.20\n",
      "Stock Variation                             33140.12\n",
      "Total Population - Both sexes             1085107.00\n",
      "Tourist consumption                            89.00\n",
      "Name: Y2016, dtype: float64)\n"
     ]
    }
   ],
   "source": [
    "question_15 = fbs_analysis.groupby('Element')['Y2017'].sum(),fbs_analysis.groupby('Element')['Y2014'].sum(),fbs_analysis.groupby('Element')['Y2015'].sum(),fbs_analysis.groupby('Element')['Y2016'].sum()\n",
    "\n",
    "print(question_15)"
   ]
  },
  {
   "cell_type": "code",
   "execution_count": 21,
   "id": "52e14d52",
   "metadata": {},
   "outputs": [
    {
     "name": "stdout",
     "output_type": "stream",
     "text": [
      "Element\n",
      "Domestic supply quantity                  1996716.35\n",
      "Export Quantity                            150020.64\n",
      "Fat supply quantity (g/capita/day)          10225.56\n",
      "Feed                                       216927.89\n",
      "Food                                      1212332.49\n",
      "Food supply (kcal/capita/day)              454257.00\n",
      "Food supply quantity (kg/capita/yr)         49650.63\n",
      "Import Quantity                            274144.48\n",
      "Losses                                     153223.00\n",
      "Other uses (non-food)                       78718.13\n",
      "Processing                                 282923.00\n",
      "Production                                1931287.75\n",
      "Protein supply quantity (g/capita/day)      11836.46\n",
      "Residuals                                   30149.00\n",
      "Seed                                        21922.92\n",
      "Stock Variation                             58749.83\n",
      "Total Population - Both sexes             1031585.00\n",
      "Tourist consumption                           416.00\n",
      "Name: Y2014, dtype: float64\n"
     ]
    }
   ],
   "source": [
    "question_16 = fbs_analysis.groupby('Element')['Y2014'].sum()\n",
    "\n",
    "print(question_16)"
   ]
  },
  {
   "cell_type": "code",
   "execution_count": 22,
   "id": "268fe319",
   "metadata": {},
   "outputs": [
    {
     "name": "stdout",
     "output_type": "stream",
     "text": [
      "Element\n",
      "Domestic supply quantity                  2161192.10\n",
      "Export Quantity                            181594.80\n",
      "Fat supply quantity (g/capita/day)          10258.69\n",
      "Feed                                       233489.68\n",
      "Food                                      1303841.28\n",
      "Food supply (kcal/capita/day)              455261.00\n",
      "Food supply quantity (kg/capita/yr)         49056.85\n",
      "Import Quantity                            287997.09\n",
      "Losses                                     163902.00\n",
      "Other uses (non-food)                       91300.97\n",
      "Processing                                 308429.00\n",
      "Production                                2075072.89\n",
      "Protein supply quantity (g/capita/day)      11833.56\n",
      "Residuals                                   34864.00\n",
      "Seed                                        25263.14\n",
      "Stock Variation                             20577.91\n",
      "Total Population - Both sexes             1140605.00\n",
      "Tourist consumption                            90.00\n",
      "Name: Y2018, dtype: float64\n"
     ]
    }
   ],
   "source": [
    "question_17 = fbs_analysis.groupby('Element')['Y2018'].sum()\n",
    "\n",
    "print(question_17)"
   ]
  },
  {
   "cell_type": "code",
   "execution_count": 23,
   "id": "ec292a21",
   "metadata": {},
   "outputs": [
    {
     "name": "stdout",
     "output_type": "stream",
     "text": [
      "Element\n",
      "Domestic supply quantity                  2161192.10\n",
      "Export Quantity                            181594.80\n",
      "Fat supply quantity (g/capita/day)          10258.69\n",
      "Feed                                       233489.68\n",
      "Food                                      1303841.28\n",
      "Food supply (kcal/capita/day)              455261.00\n",
      "Food supply quantity (kg/capita/yr)         49056.85\n",
      "Import Quantity                            287997.09\n",
      "Losses                                     163902.00\n",
      "Other uses (non-food)                       91300.97\n",
      "Processing                                 308429.00\n",
      "Production                                2075072.89\n",
      "Protein supply quantity (g/capita/day)      11833.56\n",
      "Residuals                                   34864.00\n",
      "Seed                                        25263.14\n",
      "Stock Variation                             20577.91\n",
      "Total Population - Both sexes             1140605.00\n",
      "Tourist consumption                            90.00\n",
      "Name: Y2018, dtype: float64\n"
     ]
    }
   ],
   "source": [
    "question_18 = fbs_analysis.groupby('Element')['Y2018'].sum()\n",
    "\n",
    "print(question_18)"
   ]
  },
  {
   "cell_type": "code",
   "execution_count": null,
   "id": "316759d2",
   "metadata": {},
   "outputs": [],
   "source": []
  }
 ],
 "metadata": {
  "kernelspec": {
   "display_name": "Python 3 (ipykernel)",
   "language": "python",
   "name": "python3"
  },
  "language_info": {
   "codemirror_mode": {
    "name": "ipython",
    "version": 3
   },
   "file_extension": ".py",
   "mimetype": "text/x-python",
   "name": "python",
   "nbconvert_exporter": "python",
   "pygments_lexer": "ipython3",
   "version": "3.10.1"
  }
 },
 "nbformat": 4,
 "nbformat_minor": 5
}
